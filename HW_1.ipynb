{
 "cells": [
  {
   "cell_type": "markdown",
   "metadata": {},
   "source": [
    "# ДЗ1. Предобработка текстовых данных\n",
    "Даша Максимова, БКЛ151"
   ]
  },
  {
   "cell_type": "markdown",
   "metadata": {},
   "source": [
    "## Из материалов семинара\n",
    "\n",
    "Смотрим на анализ тональности в твитах (соревнование Диалога прошлых лет)."
   ]
  },
  {
   "cell_type": "code",
   "execution_count": 1,
   "metadata": {},
   "outputs": [],
   "source": [
    "import pandas as pd\n",
    "import numpy as np\n",
    "\n",
    "pd.set_option('max_colwidth', 1000)"
   ]
  },
  {
   "cell_type": "markdown",
   "metadata": {},
   "source": [
    "### Данные"
   ]
  },
  {
   "cell_type": "code",
   "execution_count": 2,
   "metadata": {},
   "outputs": [],
   "source": [
    "train_data = pd.read_csv(\"data/sentiment_twitter/train_sentiment_ttk.tsv\", sep=\"\\t\")\n",
    "test_data = pd.read_csv(\"data/sentiment_twitter/test_sentiment_ttk.tsv\", sep=\"\\t\")"
   ]
  },
  {
   "cell_type": "code",
   "execution_count": 3,
   "metadata": {},
   "outputs": [
    {
     "data": {
      "text/html": [
       "<div>\n",
       "<style scoped>\n",
       "    .dataframe tbody tr th:only-of-type {\n",
       "        vertical-align: middle;\n",
       "    }\n",
       "\n",
       "    .dataframe tbody tr th {\n",
       "        vertical-align: top;\n",
       "    }\n",
       "\n",
       "    .dataframe thead th {\n",
       "        text-align: right;\n",
       "    }\n",
       "</style>\n",
       "<table border=\"1\" class=\"dataframe\">\n",
       "  <thead>\n",
       "    <tr style=\"text-align: right;\">\n",
       "      <th></th>\n",
       "      <th>label</th>\n",
       "      <th>text</th>\n",
       "    </tr>\n",
       "  </thead>\n",
       "  <tbody>\n",
       "    <tr>\n",
       "      <th>0</th>\n",
       "      <td>0</td>\n",
       "      <td>@mkomov Максим, Вашем письмо мы получили. Наши сотрудники свяжутся с Вами завтра и направят запрос инженерам для проверки. #билайн</td>\n",
       "    </tr>\n",
       "    <tr>\n",
       "      <th>1</th>\n",
       "      <td>0</td>\n",
       "      <td>«Мегафон» стал владельцем 50% акций «Евросети»</td>\n",
       "    </tr>\n",
       "    <tr>\n",
       "      <th>2</th>\n",
       "      <td>-1</td>\n",
       "      <td>RT @fuckkiev: “@EvaKobb: МТС Россия прислала жителям Херсонщины сообщения, в которых обозвала украинцев фашистами? http://t.co/RbSesXlOUZ” …</td>\n",
       "    </tr>\n",
       "    <tr>\n",
       "      <th>3</th>\n",
       "      <td>1</td>\n",
       "      <td>ВИДЕО: http://t.co/PSMLAhR4fI Реклама со смехом МТС - Супер 0</td>\n",
       "    </tr>\n",
       "    <tr>\n",
       "      <th>4</th>\n",
       "      <td>-1</td>\n",
       "      <td>@parfenov1960 потому что МТС достало, а пчел ненавижу с детства, как и их мёд!</td>\n",
       "    </tr>\n",
       "  </tbody>\n",
       "</table>\n",
       "</div>"
      ],
      "text/plain": [
       "   label  \\\n",
       "0      0   \n",
       "1      0   \n",
       "2     -1   \n",
       "3      1   \n",
       "4     -1   \n",
       "\n",
       "                                                                                                                                           text  \n",
       "0            @mkomov Максим, Вашем письмо мы получили. Наши сотрудники свяжутся с Вами завтра и направят запрос инженерам для проверки. #билайн  \n",
       "1                                                                                                «Мегафон» стал владельцем 50% акций «Евросети»  \n",
       "2  RT @fuckkiev: “@EvaKobb: МТС Россия прислала жителям Херсонщины сообщения, в которых обозвала украинцев фашистами? http://t.co/RbSesXlOUZ” …  \n",
       "3                                                                                 ВИДЕО: http://t.co/PSMLAhR4fI Реклама со смехом МТС - Супер 0  \n",
       "4                                                                @parfenov1960 потому что МТС достало, а пчел ненавижу с детства, как и их мёд!  "
      ]
     },
     "execution_count": 3,
     "metadata": {},
     "output_type": "execute_result"
    }
   ],
   "source": [
    "train_data.head()"
   ]
  },
  {
   "cell_type": "code",
   "execution_count": 4,
   "metadata": {},
   "outputs": [
    {
     "data": {
      "text/html": [
       "<div>\n",
       "<style scoped>\n",
       "    .dataframe tbody tr th:only-of-type {\n",
       "        vertical-align: middle;\n",
       "    }\n",
       "\n",
       "    .dataframe tbody tr th {\n",
       "        vertical-align: top;\n",
       "    }\n",
       "\n",
       "    .dataframe thead th {\n",
       "        text-align: right;\n",
       "    }\n",
       "</style>\n",
       "<table border=\"1\" class=\"dataframe\">\n",
       "  <thead>\n",
       "    <tr style=\"text-align: right;\">\n",
       "      <th></th>\n",
       "      <th>label</th>\n",
       "      <th>text</th>\n",
       "    </tr>\n",
       "  </thead>\n",
       "  <tbody>\n",
       "    <tr>\n",
       "      <th>0</th>\n",
       "      <td>-1</td>\n",
       "      <td>RT vzglyad: По делу о работе МТС в Узбекистане США предложили заморозить 300 млн</td>\n",
       "    </tr>\n",
       "    <tr>\n",
       "      <th>1</th>\n",
       "      <td>0</td>\n",
       "      <td>RT @kevinuyatukox: http://t.co/ljtrjq91v3 #Кредитные карты мегафон банка</td>\n",
       "    </tr>\n",
       "    <tr>\n",
       "      <th>2</th>\n",
       "      <td>0</td>\n",
       "      <td>#Оформить кредитную карту в банке мтс http://t.co/vv1B6PMWgH</td>\n",
       "    </tr>\n",
       "    <tr>\n",
       "      <th>3</th>\n",
       "      <td>0</td>\n",
       "      <td>#Как перевести деньги с билайна на кредитную карту</td>\n",
       "    </tr>\n",
       "    <tr>\n",
       "      <th>4</th>\n",
       "      <td>0</td>\n",
       "      <td>#Начальник отдела кредитного контроля оао мтс усачева н а</td>\n",
       "    </tr>\n",
       "  </tbody>\n",
       "</table>\n",
       "</div>"
      ],
      "text/plain": [
       "   label  \\\n",
       "0     -1   \n",
       "1      0   \n",
       "2      0   \n",
       "3      0   \n",
       "4      0   \n",
       "\n",
       "                                                                               text  \n",
       "0  RT vzglyad: По делу о работе МТС в Узбекистане США предложили заморозить 300 млн  \n",
       "1          RT @kevinuyatukox: http://t.co/ljtrjq91v3 #Кредитные карты мегафон банка  \n",
       "2                      #Оформить кредитную карту в банке мтс http://t.co/vv1B6PMWgH  \n",
       "3                                #Как перевести деньги с билайна на кредитную карту  \n",
       "4                         #Начальник отдела кредитного контроля оао мтс усачева н а  "
      ]
     },
     "execution_count": 4,
     "metadata": {},
     "output_type": "execute_result"
    }
   ],
   "source": [
    "test_data.head()"
   ]
  },
  {
   "cell_type": "markdown",
   "metadata": {},
   "source": [
    "### Бейзлайн\n",
    "\n",
    "**CountVectorizer + логистическая регрессия**\n",
    "\n",
    "|class|precision|recall|f1-score|support|\n",
    "|:------:|:------:|:------:|:------:|:------:|\n",
    "|-1|0.69|0.59|0.64|902|\n",
    "|0|0.61|0.80|0.69|972|\n",
    "|1|0.30|0.03|0.06|180|\n",
    "|avg / total|0.62|0.64|0.61|2054|\n",
    "\n",
    "* Макросредняя F1 мера -  0.46306421211286786\n",
    "* Микросредняя F1 мера -  0.6387536514118792\n",
    "\n",
    "**TF-IDF + логистическая регрессия**\n",
    "\n",
    "|class|precision|recall|f1-score|support|\n",
    "|:------:|:------:|:------:|:------:|:------:|\n",
    "|-1|0.70|0.69|0.70|902|\n",
    "|0|0.66|0.76|0.71|972|\n",
    "|1|0.37|0.09|0.15|180|\n",
    "|avg / total|0.65|0.67|0.65|2054|\n",
    "\n",
    "* Макросредняя F1 мера -  0.5179519140882505\n",
    "* Микросредняя F1 мера -  0.6718597857838364"
   ]
  },
  {
   "cell_type": "markdown",
   "metadata": {},
   "source": [
    "## Задание\n",
    "По самым характерным словам видно, что в корпусе есть мусор, стоп-слова, разные формы одного слова. Чтобы улучшить результат, попробуйте почистить данные и добавить нормализацию."
   ]
  },
  {
   "cell_type": "markdown",
   "metadata": {},
   "source": [
    "### 1. Нормализация и лемматизация\n",
    "\n",
    "Тексты нормализуются так:\n",
    "\n",
    "* весь текст приводим к нижнему регистру,\n",
    "* все слова приводим к их леммам,\n",
    "* убираем всю пунктуацию,\n",
    "* убираем обращения (в твиттере для этого используют знак @) и никнеймы (вычищаем их регулярным выражением)."
   ]
  },
  {
   "cell_type": "code",
   "execution_count": 5,
   "metadata": {},
   "outputs": [],
   "source": [
    "from nltk.tokenize import wordpunct_tokenize\n",
    "from pymorphy2 import MorphAnalyzer\n",
    "from nltk.corpus import stopwords\n",
    "import string\n",
    "import re"
   ]
  },
  {
   "cell_type": "code",
   "execution_count": 6,
   "metadata": {},
   "outputs": [],
   "source": [
    "morph = MorphAnalyzer()\n",
    "stops = stopwords.words(\"russian\")\n",
    "punct_extended = string.punctuation + \"@«»—…“”\"\n",
    "regex_username = re.compile(\"[a-zA-Z0-9]+\")"
   ]
  },
  {
   "cell_type": "code",
   "execution_count": 7,
   "metadata": {},
   "outputs": [],
   "source": [
    "def normalize(text):\n",
    "    \"\"\"\n",
    "    функция нормализации\n",
    "    \n",
    "    ::takes::\n",
    "    @text - ненормализованный текст (string)\n",
    "    \n",
    "    ::returns::\n",
    "    нормализованный текст (string)\n",
    "    \"\"\"\n",
    "    text = text.lower()\n",
    "    tokens = wordpunct_tokenize(text)\n",
    "    lemmas_raw = [morph.parse(token)[0].normal_form for token in tokens]\n",
    "    lemmas = [lemma for lemma in lemmas_raw \n",
    "              if lemma not in stops\n",
    "             and lemma not in punct_extended\n",
    "             and lemma != \"rt\"\n",
    "             and not re.search(regex_username, lemma)]\n",
    "    \n",
    "    return \" \".join(lemmas)"
   ]
  },
  {
   "cell_type": "markdown",
   "metadata": {},
   "source": [
    "Применяем нормализацию ко всему корпусу."
   ]
  },
  {
   "cell_type": "code",
   "execution_count": 8,
   "metadata": {},
   "outputs": [],
   "source": [
    "train_data[\"normalized\"] = train_data[\"text\"].apply(normalize)\n",
    "test_data[\"normalized\"] = test_data[\"text\"].apply(normalize)"
   ]
  },
  {
   "cell_type": "markdown",
   "metadata": {},
   "source": [
    "### 2. TF-IDF"
   ]
  },
  {
   "cell_type": "markdown",
   "metadata": {},
   "source": [
    "Обучаем новую модель на нормализованных данных."
   ]
  },
  {
   "cell_type": "code",
   "execution_count": 9,
   "metadata": {},
   "outputs": [],
   "source": [
    "from sklearn.feature_extraction.text import TfidfVectorizer"
   ]
  },
  {
   "cell_type": "code",
   "execution_count": 10,
   "metadata": {},
   "outputs": [],
   "source": [
    "tfidf = TfidfVectorizer()\n",
    "tfidf.fit(train_data[\"normalized\"].values)\n",
    "\n",
    "X_train = tfidf.transform(train_data[\"normalized\"].values)\n",
    "X_test = tfidf.transform(test_data[\"normalized\"].values)"
   ]
  },
  {
   "cell_type": "code",
   "execution_count": 11,
   "metadata": {},
   "outputs": [],
   "source": [
    "y_train = train_data[\"label\"].values\n",
    "y_test = test_data[\"label\"].values"
   ]
  },
  {
   "cell_type": "markdown",
   "metadata": {},
   "source": [
    "### 3. Ура, машинное обучение!"
   ]
  },
  {
   "cell_type": "markdown",
   "metadata": {},
   "source": [
    "#### (оригинальное ДЗ) Логистическая регрессия"
   ]
  },
  {
   "cell_type": "code",
   "execution_count": 12,
   "metadata": {},
   "outputs": [],
   "source": [
    "from sklearn.linear_model import LogisticRegression\n",
    "from sklearn.metrics import precision_score, recall_score, f1_score, classification_report"
   ]
  },
  {
   "cell_type": "code",
   "execution_count": 13,
   "metadata": {},
   "outputs": [],
   "source": [
    "logreg = LogisticRegression()\n",
    "logreg.fit(X_train, y_train)\n",
    "\n",
    "y_pred = logreg.predict(X_test)"
   ]
  },
  {
   "cell_type": "code",
   "execution_count": 14,
   "metadata": {},
   "outputs": [
    {
     "name": "stdout",
     "output_type": "stream",
     "text": [
      "             precision    recall  f1-score   support\n",
      "\n",
      "         -1       0.74      0.57      0.64       902\n",
      "          0       0.62      0.85      0.72       972\n",
      "          1       0.48      0.13      0.20       180\n",
      "\n",
      "avg / total       0.66      0.66      0.64      2054\n",
      "\n",
      "Макросредняя F1 мера -  0.5208085372311336\n",
      "Микросредняя F1 мера -  0.6601752677702045\n"
     ]
    }
   ],
   "source": [
    "print(classification_report(y_test, y_pred))\n",
    "print(\"Макросредняя F1 мера - \", f1_score(y_test, y_pred, average=\"macro\"))\n",
    "print(\"Микросредняя F1 мера - \", f1_score(y_test, y_pred, average=\"micro\"))"
   ]
  },
  {
   "cell_type": "markdown",
   "metadata": {},
   "source": [
    "#### Решающее дерево"
   ]
  },
  {
   "cell_type": "code",
   "execution_count": 15,
   "metadata": {},
   "outputs": [],
   "source": [
    "from sklearn.tree import DecisionTreeClassifier"
   ]
  },
  {
   "cell_type": "code",
   "execution_count": 16,
   "metadata": {},
   "outputs": [],
   "source": [
    "tree = DecisionTreeClassifier()\n",
    "tree.fit(X_train, y_train)\n",
    "\n",
    "y_pred = tree.predict(X_test)"
   ]
  },
  {
   "cell_type": "code",
   "execution_count": 17,
   "metadata": {},
   "outputs": [
    {
     "name": "stdout",
     "output_type": "stream",
     "text": [
      "             precision    recall  f1-score   support\n",
      "\n",
      "         -1       0.65      0.51      0.57       902\n",
      "          0       0.60      0.71      0.65       972\n",
      "          1       0.21      0.24      0.23       180\n",
      "\n",
      "avg / total       0.59      0.58      0.58      2054\n",
      "\n",
      "Макросредняя F1 мера -  0.4820289963638958\n",
      "Микросредняя F1 мера -  0.5798442064264849\n"
     ]
    }
   ],
   "source": [
    "print(classification_report(y_test, y_pred))\n",
    "print(\"Макросредняя F1 мера - \", f1_score(y_test, y_pred, average=\"macro\"))\n",
    "print(\"Микросредняя F1 мера - \", f1_score(y_test, y_pred, average=\"micro\"))"
   ]
  },
  {
   "cell_type": "markdown",
   "metadata": {},
   "source": [
    "#### Random Forest"
   ]
  },
  {
   "cell_type": "code",
   "execution_count": 18,
   "metadata": {},
   "outputs": [],
   "source": [
    "from sklearn.ensemble import RandomForestClassifier"
   ]
  },
  {
   "cell_type": "code",
   "execution_count": 19,
   "metadata": {},
   "outputs": [],
   "source": [
    "forest = RandomForestClassifier()\n",
    "forest.fit(X_train, y_train)\n",
    "\n",
    "y_pred = forest.predict(X_test)"
   ]
  },
  {
   "cell_type": "code",
   "execution_count": 20,
   "metadata": {},
   "outputs": [
    {
     "name": "stdout",
     "output_type": "stream",
     "text": [
      "             precision    recall  f1-score   support\n",
      "\n",
      "         -1       0.67      0.53      0.60       902\n",
      "          0       0.60      0.80      0.69       972\n",
      "          1       0.54      0.14      0.23       180\n",
      "\n",
      "avg / total       0.63      0.63      0.61      2054\n",
      "\n",
      "Макросредняя F1 мера -  0.5039395896930808\n",
      "Микросредняя F1 мера -  0.626095423563778\n"
     ]
    }
   ],
   "source": [
    "print(classification_report(y_test, y_pred))\n",
    "print(\"Макросредняя F1 мера - \", f1_score(y_test, y_pred, average=\"macro\"))\n",
    "print(\"Микросредняя F1 мера - \", f1_score(y_test, y_pred, average=\"micro\"))"
   ]
  }
 ],
 "metadata": {
  "kernelspec": {
   "display_name": "Python 3",
   "language": "python",
   "name": "python3"
  },
  "language_info": {
   "codemirror_mode": {
    "name": "ipython",
    "version": 3
   },
   "file_extension": ".py",
   "mimetype": "text/x-python",
   "name": "python",
   "nbconvert_exporter": "python",
   "pygments_lexer": "ipython3",
   "version": "3.6.4"
  }
 },
 "nbformat": 4,
 "nbformat_minor": 2
}
