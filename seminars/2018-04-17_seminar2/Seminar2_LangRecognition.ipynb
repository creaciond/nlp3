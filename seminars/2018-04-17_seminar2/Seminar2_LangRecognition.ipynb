{
 "cells": [
  {
   "cell_type": "markdown",
   "metadata": {},
   "source": [
    "Семинар 2. Определение языка (language detection)\n",
    "--------------------"
   ]
  },
  {
   "cell_type": "markdown",
   "metadata": {},
   "source": [
    "<img src=\"./img.jpg\">"
   ]
  },
  {
   "cell_type": "code",
   "execution_count": null,
   "metadata": {},
   "outputs": [],
   "source": []
  },
  {
   "cell_type": "code",
   "execution_count": 1,
   "metadata": {},
   "outputs": [],
   "source": [
    "import wikipedia\n",
    "import numpy as np\n",
    "import os\n",
    "import json\n",
    "import requests"
   ]
  },
  {
   "cell_type": "code",
   "execution_count": 6,
   "metadata": {},
   "outputs": [],
   "source": [
    "# посмотрим какие языки есть в википедии и какие коды им соответствуют\n",
    "code2lang = wikipedia.languages()"
   ]
  },
  {
   "cell_type": "code",
   "execution_count": 7,
   "metadata": {},
   "outputs": [
    {
     "data": {
      "text/plain": [
       "{'aa': 'Qafár af',\n",
       " 'ab': 'Аҧсшәа',\n",
       " 'ace': 'Acèh',\n",
       " 'ady': 'адыгабзэ',\n",
       " 'ady-cyrl': 'адыгабзэ',\n",
       " 'aeb': 'تونسي/Tûnsî',\n",
       " 'aeb-arab': 'تونسي',\n",
       " 'aeb-latn': 'Tûnsî',\n",
       " 'af': 'Afrikaans',\n",
       " 'ak': 'Akan',\n",
       " 'aln': 'Gegë',\n",
       " 'als': 'Alemannisch',\n",
       " 'am': 'አማርኛ',\n",
       " 'an': 'aragonés',\n",
       " 'ang': 'Ænglisc',\n",
       " 'anp': 'अङ्गिका',\n",
       " 'ar': 'العربية',\n",
       " 'arc': 'ܐܪܡܝܐ',\n",
       " 'arn': 'mapudungun',\n",
       " 'arq': 'جازايرية',\n",
       " 'ary': 'Maġribi',\n",
       " 'arz': 'مصرى',\n",
       " 'as': 'অসমীয়া',\n",
       " 'ase': 'American sign language',\n",
       " 'ast': 'asturianu',\n",
       " 'atj': 'Atikamekw',\n",
       " 'av': 'авар',\n",
       " 'avk': 'Kotava',\n",
       " 'awa': 'अवधी',\n",
       " 'ay': 'Aymar aru',\n",
       " 'az': 'azərbaycanca',\n",
       " 'azb': 'تۆرکجه',\n",
       " 'ba': 'башҡортса',\n",
       " 'ban': 'Basa Bali',\n",
       " 'bar': 'Boarisch',\n",
       " 'bat-smg': 'žemaitėška',\n",
       " 'bbc': 'Batak Toba',\n",
       " 'bbc-latn': 'Batak Toba',\n",
       " 'bcc': 'جهلسری بلوچی',\n",
       " 'bcl': 'Bikol Central',\n",
       " 'be': 'беларуская',\n",
       " 'be-tarask': 'беларуская (тарашкевіца)\\u200e',\n",
       " 'be-x-old': 'беларуская (тарашкевіца)\\u200e',\n",
       " 'bg': 'български',\n",
       " 'bgn': 'روچ کپتین بلوچی',\n",
       " 'bh': 'भोजपुरी',\n",
       " 'bho': 'भोजपुरी',\n",
       " 'bi': 'Bislama',\n",
       " 'bjn': 'Bahasa Banjar',\n",
       " 'bm': 'bamanankan',\n",
       " 'bn': 'বাংলা',\n",
       " 'bo': 'བོད་ཡིག',\n",
       " 'bpy': 'বিষ্ণুপ্রিয়া মণিপুরী',\n",
       " 'bqi': 'بختیاری',\n",
       " 'br': 'brezhoneg',\n",
       " 'brh': 'Bráhuí',\n",
       " 'bs': 'bosanski',\n",
       " 'bto': 'Iriga Bicolano',\n",
       " 'bug': 'ᨅᨔ ᨕᨘᨁᨗ',\n",
       " 'bxr': 'буряад',\n",
       " 'ca': 'català',\n",
       " 'cbk-zam': 'Chavacano de Zamboanga',\n",
       " 'cdo': 'Mìng-dĕ̤ng-ngṳ̄',\n",
       " 'ce': 'нохчийн',\n",
       " 'ceb': 'Cebuano',\n",
       " 'ch': 'Chamoru',\n",
       " 'cho': 'Choctaw',\n",
       " 'chr': 'ᏣᎳᎩ',\n",
       " 'chy': 'Tsetsêhestâhese',\n",
       " 'ckb': 'کوردی',\n",
       " 'co': 'corsu',\n",
       " 'cps': 'Capiceño',\n",
       " 'cr': 'Nēhiyawēwin / ᓀᐦᐃᔭᐍᐏᐣ',\n",
       " 'crh': 'qırımtatarca',\n",
       " 'crh-cyrl': 'къырымтатарджа (Кирилл)\\u200e',\n",
       " 'crh-latn': 'qırımtatarca (Latin)\\u200e',\n",
       " 'cs': 'čeština',\n",
       " 'csb': 'kaszëbsczi',\n",
       " 'cu': 'словѣньскъ / ⰔⰎⰑⰂⰡⰐⰠⰔⰍⰟ',\n",
       " 'cv': 'Чӑвашла',\n",
       " 'cy': 'Cymraeg',\n",
       " 'da': 'dansk',\n",
       " 'de': 'Deutsch',\n",
       " 'de-at': 'Österreichisches Deutsch',\n",
       " 'de-ch': 'Schweizer Hochdeutsch',\n",
       " 'de-formal': 'Deutsch (Sie-Form)\\u200e',\n",
       " 'din': 'Thuɔŋjäŋ',\n",
       " 'diq': 'Zazaki',\n",
       " 'dsb': 'dolnoserbski',\n",
       " 'dtp': 'Dusun Bundu-liwan',\n",
       " 'dty': 'डोटेली',\n",
       " 'dv': 'ދިވެހިބަސް',\n",
       " 'dz': 'ཇོང་ཁ',\n",
       " 'ee': 'eʋegbe',\n",
       " 'egl': 'Emiliàn',\n",
       " 'el': 'Ελληνικά',\n",
       " 'eml': 'emiliàn e rumagnòl',\n",
       " 'en': 'English',\n",
       " 'en-ca': 'Canadian English',\n",
       " 'en-gb': 'British English',\n",
       " 'eo': 'Esperanto',\n",
       " 'es': 'español',\n",
       " 'es-formal': 'español (formal)',\n",
       " 'et': 'eesti',\n",
       " 'eu': 'euskara',\n",
       " 'ext': 'estremeñu',\n",
       " 'fa': 'فارسی',\n",
       " 'ff': 'Fulfulde',\n",
       " 'fi': 'suomi',\n",
       " 'fit': 'meänkieli',\n",
       " 'fiu-vro': 'Võro',\n",
       " 'fj': 'Na Vosa Vakaviti',\n",
       " 'fo': 'føroyskt',\n",
       " 'fr': 'français',\n",
       " 'frc': 'français cadien',\n",
       " 'frp': 'arpetan',\n",
       " 'frr': 'Nordfriisk',\n",
       " 'fur': 'furlan',\n",
       " 'fy': 'Frysk',\n",
       " 'ga': 'Gaeilge',\n",
       " 'gag': 'Gagauz',\n",
       " 'gan': '贛語',\n",
       " 'gan-hans': '赣语（简体）\\u200e',\n",
       " 'gan-hant': '贛語（繁體）\\u200e',\n",
       " 'gcr': 'kréyòl gwiyanè',\n",
       " 'gd': 'Gàidhlig',\n",
       " 'gl': 'galego',\n",
       " 'glk': 'گیلکی',\n",
       " 'gn': \"Avañe'ẽ\",\n",
       " 'gom': 'गोंयची कोंकणी / Gõychi Konknni',\n",
       " 'gom-deva': 'गोंयची कोंकणी',\n",
       " 'gom-latn': 'Gõychi Konknni',\n",
       " 'gor': 'Bahasa Hulontalo',\n",
       " 'got': '𐌲𐌿𐍄𐌹𐍃𐌺',\n",
       " 'grc': 'Ἀρχαία ἑλληνικὴ',\n",
       " 'gsw': 'Alemannisch',\n",
       " 'gu': 'ગુજરાતી',\n",
       " 'gv': 'Gaelg',\n",
       " 'ha': 'Hausa',\n",
       " 'hak': '客家語/Hak-kâ-ngî',\n",
       " 'haw': 'Hawaiʻi',\n",
       " 'he': 'עברית',\n",
       " 'hi': 'हिन्दी',\n",
       " 'hif': 'Fiji Hindi',\n",
       " 'hif-latn': 'Fiji Hindi',\n",
       " 'hil': 'Ilonggo',\n",
       " 'ho': 'Hiri Motu',\n",
       " 'hr': 'hrvatski',\n",
       " 'hrx': 'Hunsrik',\n",
       " 'hsb': 'hornjoserbsce',\n",
       " 'ht': 'Kreyòl ayisyen',\n",
       " 'hu': 'magyar',\n",
       " 'hu-formal': 'magyar (formal)',\n",
       " 'hy': 'Հայերեն',\n",
       " 'hz': 'Otsiherero',\n",
       " 'ia': 'interlingua',\n",
       " 'id': 'Bahasa Indonesia',\n",
       " 'ie': 'Interlingue',\n",
       " 'ig': 'Igbo',\n",
       " 'ii': 'ꆇꉙ',\n",
       " 'ik': 'Iñupiak',\n",
       " 'ike-cans': 'ᐃᓄᒃᑎᑐᑦ',\n",
       " 'ike-latn': 'inuktitut',\n",
       " 'ilo': 'Ilokano',\n",
       " 'inh': 'ГӀалгӀай',\n",
       " 'io': 'Ido',\n",
       " 'is': 'íslenska',\n",
       " 'it': 'italiano',\n",
       " 'iu': 'ᐃᓄᒃᑎᑐᑦ/inuktitut',\n",
       " 'ja': '日本語',\n",
       " 'jam': 'Patois',\n",
       " 'jbo': 'la .lojban.',\n",
       " 'jut': 'jysk',\n",
       " 'jv': 'Basa Jawa',\n",
       " 'ka': 'ქართული',\n",
       " 'kaa': 'Qaraqalpaqsha',\n",
       " 'kab': 'Taqbaylit',\n",
       " 'kbd': 'Адыгэбзэ',\n",
       " 'kbd-cyrl': 'Адыгэбзэ',\n",
       " 'kbp': 'Kabɩyɛ',\n",
       " 'kg': 'Kongo',\n",
       " 'khw': 'کھوار',\n",
       " 'ki': 'Gĩkũyũ',\n",
       " 'kiu': 'Kırmancki',\n",
       " 'kj': 'Kwanyama',\n",
       " 'kk': 'қазақша',\n",
       " 'kk-arab': 'قازاقشا (تٴوتە)\\u200f',\n",
       " 'kk-cn': 'قازاقشا (جۇنگو)\\u200f',\n",
       " 'kk-cyrl': 'қазақша (кирил)\\u200e',\n",
       " 'kk-kz': 'қазақша (Қазақстан)\\u200e',\n",
       " 'kk-latn': 'qazaqşa (latın)\\u200e',\n",
       " 'kk-tr': 'qazaqşa (Türkïya)\\u200e',\n",
       " 'kl': 'kalaallisut',\n",
       " 'km': 'ភាសាខ្មែរ',\n",
       " 'kn': 'ಕನ್ನಡ',\n",
       " 'ko': '한국어',\n",
       " 'ko-kp': '한국어 (조선)',\n",
       " 'koi': 'Перем Коми',\n",
       " 'kr': 'Kanuri',\n",
       " 'krc': 'къарачай-малкъар',\n",
       " 'kri': 'Krio',\n",
       " 'krj': 'Kinaray-a',\n",
       " 'krl': 'karjal',\n",
       " 'ks': 'कॉशुर / کٲشُر',\n",
       " 'ks-arab': 'کٲشُر',\n",
       " 'ks-deva': 'कॉशुर',\n",
       " 'ksh': 'Ripoarisch',\n",
       " 'ku': 'kurdî',\n",
       " 'ku-arab': 'كوردي (عەرەبی)\\u200f',\n",
       " 'ku-latn': 'kurdî (latînî)\\u200e',\n",
       " 'kum': 'къумукъ',\n",
       " 'kv': 'коми',\n",
       " 'kw': 'kernowek',\n",
       " 'ky': 'Кыргызча',\n",
       " 'la': 'Latina',\n",
       " 'lad': 'Ladino',\n",
       " 'lb': 'Lëtzebuergesch',\n",
       " 'lbe': 'лакку',\n",
       " 'lez': 'лезги',\n",
       " 'lfn': 'Lingua Franca Nova',\n",
       " 'lg': 'Luganda',\n",
       " 'li': 'Limburgs',\n",
       " 'lij': 'Ligure',\n",
       " 'liv': 'Līvõ kēļ',\n",
       " 'lki': 'لەکی\\u200e',\n",
       " 'lmo': 'lumbaart',\n",
       " 'ln': 'lingála',\n",
       " 'lo': 'ລາວ',\n",
       " 'loz': 'Silozi',\n",
       " 'lrc': 'لۊری شومالی',\n",
       " 'lt': 'lietuvių',\n",
       " 'ltg': 'latgaļu',\n",
       " 'lus': 'Mizo ţawng',\n",
       " 'luz': 'لئری دوٙمینی',\n",
       " 'lv': 'latviešu',\n",
       " 'lzh': '文言',\n",
       " 'lzz': 'Lazuri',\n",
       " 'mai': 'मैथिली',\n",
       " 'map-bms': 'Basa Banyumasan',\n",
       " 'mdf': 'мокшень',\n",
       " 'mg': 'Malagasy',\n",
       " 'mh': 'Ebon',\n",
       " 'mhr': 'олык марий',\n",
       " 'mi': 'Māori',\n",
       " 'min': 'Baso Minangkabau',\n",
       " 'mk': 'македонски',\n",
       " 'ml': 'മലയാളം',\n",
       " 'mn': 'монгол',\n",
       " 'mo': 'молдовеняскэ',\n",
       " 'mr': 'मराठी',\n",
       " 'mrj': 'кырык мары',\n",
       " 'ms': 'Bahasa Melayu',\n",
       " 'mt': 'Malti',\n",
       " 'mus': 'Mvskoke',\n",
       " 'mwl': 'Mirandés',\n",
       " 'my': 'မြန်မာဘာသာ',\n",
       " 'myv': 'эрзянь',\n",
       " 'mzn': 'مازِرونی',\n",
       " 'na': 'Dorerin Naoero',\n",
       " 'nah': 'Nāhuatl',\n",
       " 'nan': 'Bân-lâm-gú',\n",
       " 'nap': 'Napulitano',\n",
       " 'nb': 'norsk bokmål',\n",
       " 'nds': 'Plattdüütsch',\n",
       " 'nds-nl': 'Nedersaksies',\n",
       " 'ne': 'नेपाली',\n",
       " 'new': 'नेपाल भाषा',\n",
       " 'ng': 'Oshiwambo',\n",
       " 'niu': 'Niuē',\n",
       " 'nl': 'Nederlands',\n",
       " 'nl-informal': 'Nederlands (informeel)\\u200e',\n",
       " 'nn': 'norsk nynorsk',\n",
       " 'no': 'norsk',\n",
       " 'nov': 'Novial',\n",
       " 'nrm': 'Nouormand',\n",
       " 'nso': 'Sesotho sa Leboa',\n",
       " 'nv': 'Diné bizaad',\n",
       " 'ny': 'Chi-Chewa',\n",
       " 'nys': 'Nyunga',\n",
       " 'oc': 'occitan',\n",
       " 'olo': 'Livvinkarjala',\n",
       " 'om': 'Oromoo',\n",
       " 'or': 'ଓଡ଼ିଆ',\n",
       " 'os': 'Ирон',\n",
       " 'pa': 'ਪੰਜਾਬੀ',\n",
       " 'pag': 'Pangasinan',\n",
       " 'pam': 'Kapampangan',\n",
       " 'pap': 'Papiamentu',\n",
       " 'pcd': 'Picard',\n",
       " 'pdc': 'Deitsch',\n",
       " 'pdt': 'Plautdietsch',\n",
       " 'pfl': 'Pälzisch',\n",
       " 'pi': 'पालि',\n",
       " 'pih': 'Norfuk / Pitkern',\n",
       " 'pl': 'polski',\n",
       " 'pms': 'Piemontèis',\n",
       " 'pnb': 'پنجابی',\n",
       " 'pnt': 'Ποντιακά',\n",
       " 'prg': 'Prūsiskan',\n",
       " 'ps': 'پښتو',\n",
       " 'pt': 'português',\n",
       " 'pt-br': 'português do Brasil',\n",
       " 'qu': 'Runa Simi',\n",
       " 'qug': 'Runa shimi',\n",
       " 'rgn': 'Rumagnôl',\n",
       " 'rif': 'Tarifit',\n",
       " 'rm': 'rumantsch',\n",
       " 'rmy': 'Romani',\n",
       " 'rn': 'Kirundi',\n",
       " 'ro': 'română',\n",
       " 'roa-rup': 'armãneashti',\n",
       " 'roa-tara': 'tarandíne',\n",
       " 'ru': 'русский',\n",
       " 'rue': 'русиньскый',\n",
       " 'rup': 'armãneashti',\n",
       " 'ruq': 'Vlăheşte',\n",
       " 'ruq-cyrl': 'Влахесте',\n",
       " 'ruq-latn': 'Vlăheşte',\n",
       " 'rw': 'Kinyarwanda',\n",
       " 'sa': 'संस्कृतम्',\n",
       " 'sah': 'саха тыла',\n",
       " 'sat': 'Santali',\n",
       " 'sc': 'sardu',\n",
       " 'scn': 'sicilianu',\n",
       " 'sco': 'Scots',\n",
       " 'sd': 'سنڌي',\n",
       " 'sdc': 'Sassaresu',\n",
       " 'sdh': 'کوردی خوارگ',\n",
       " 'se': 'davvisámegiella',\n",
       " 'sei': 'Cmique Itom',\n",
       " 'ses': 'Koyraboro Senni',\n",
       " 'sg': 'Sängö',\n",
       " 'sgs': 'žemaitėška',\n",
       " 'sh': 'srpskohrvatski / српскохрватски',\n",
       " 'shi': 'Tašlḥiyt/ⵜⴰⵛⵍⵃⵉⵜ',\n",
       " 'shi-latn': 'Tašlḥiyt',\n",
       " 'shi-tfng': 'ⵜⴰⵛⵍⵃⵉⵜ',\n",
       " 'shn': 'ၽႃႇသႃႇတႆး ',\n",
       " 'si': 'සිංහල',\n",
       " 'simple': 'Simple English',\n",
       " 'sk': 'slovenčina',\n",
       " 'skr': 'سرائیکی',\n",
       " 'skr-arab': 'سرائیکی',\n",
       " 'sl': 'slovenščina',\n",
       " 'sli': 'Schläsch',\n",
       " 'sm': 'Gagana Samoa',\n",
       " 'sma': 'Åarjelsaemien',\n",
       " 'sn': 'chiShona',\n",
       " 'so': 'Soomaaliga',\n",
       " 'sq': 'shqip',\n",
       " 'sr': 'српски / srpski',\n",
       " 'sr-ec': 'српски (ћирилица)\\u200e',\n",
       " 'sr-el': 'srpski (latinica)\\u200e',\n",
       " 'srn': 'Sranantongo',\n",
       " 'ss': 'SiSwati',\n",
       " 'st': 'Sesotho',\n",
       " 'stq': 'Seeltersk',\n",
       " 'sty': 'cебертатар',\n",
       " 'su': 'Basa Sunda',\n",
       " 'sv': 'svenska',\n",
       " 'sw': 'Kiswahili',\n",
       " 'szl': 'ślůnski',\n",
       " 'ta': 'தமிழ்',\n",
       " 'tay': 'Tayal',\n",
       " 'tcy': 'ತುಳು',\n",
       " 'te': 'తెలుగు',\n",
       " 'tet': 'tetun',\n",
       " 'tg': 'тоҷикӣ',\n",
       " 'tg-cyrl': 'тоҷикӣ',\n",
       " 'tg-latn': 'tojikī',\n",
       " 'th': 'ไทย',\n",
       " 'ti': 'ትግርኛ',\n",
       " 'tk': 'Türkmençe',\n",
       " 'tl': 'Tagalog',\n",
       " 'tly': 'толышә зывон',\n",
       " 'tn': 'Setswana',\n",
       " 'to': 'lea faka-Tonga',\n",
       " 'tpi': 'Tok Pisin',\n",
       " 'tr': 'Türkçe',\n",
       " 'tru': 'Ṫuroyo',\n",
       " 'ts': 'Xitsonga',\n",
       " 'tt': 'татарча/tatarça',\n",
       " 'tt-cyrl': 'татарча',\n",
       " 'tt-latn': 'tatarça',\n",
       " 'tum': 'chiTumbuka',\n",
       " 'tw': 'Twi',\n",
       " 'ty': 'reo tahiti',\n",
       " 'tyv': 'тыва дыл',\n",
       " 'tzm': 'ⵜⴰⵎⴰⵣⵉⵖⵜ',\n",
       " 'udm': 'удмурт',\n",
       " 'ug': 'ئۇيغۇرچە / Uyghurche',\n",
       " 'ug-arab': 'ئۇيغۇرچە',\n",
       " 'ug-latn': 'Uyghurche',\n",
       " 'uk': 'українська',\n",
       " 'ur': 'اردو',\n",
       " 'uz': 'oʻzbekcha/ўзбекча',\n",
       " 'uz-cyrl': 'ўзбекча',\n",
       " 'uz-latn': 'oʻzbekcha',\n",
       " 've': 'Tshivenda',\n",
       " 'vec': 'vèneto',\n",
       " 'vep': 'vepsän kel’',\n",
       " 'vi': 'Tiếng Việt',\n",
       " 'vls': 'West-Vlams',\n",
       " 'vmf': 'Mainfränkisch',\n",
       " 'vo': 'Volapük',\n",
       " 'vot': 'Vaďďa',\n",
       " 'vro': 'Võro',\n",
       " 'wa': 'walon',\n",
       " 'war': 'Winaray',\n",
       " 'wo': 'Wolof',\n",
       " 'wuu': '吴语',\n",
       " 'xal': 'хальмг',\n",
       " 'xh': 'isiXhosa',\n",
       " 'xmf': 'მარგალური',\n",
       " 'yi': 'ייִדיש',\n",
       " 'yo': 'Yorùbá',\n",
       " 'yue': '粵語',\n",
       " 'za': 'Vahcuengh',\n",
       " 'zea': 'Zeêuws',\n",
       " 'zh': '中文',\n",
       " 'zh-classical': '文言',\n",
       " 'zh-cn': '中文（中国大陆）\\u200e',\n",
       " 'zh-hans': '中文（简体）\\u200e',\n",
       " 'zh-hant': '中文（繁體）\\u200e',\n",
       " 'zh-hk': '中文（香港）\\u200e',\n",
       " 'zh-min-nan': 'Bân-lâm-gú',\n",
       " 'zh-mo': '中文（澳門）\\u200e',\n",
       " 'zh-my': '中文（马来西亚）\\u200e',\n",
       " 'zh-sg': '中文（新加坡）\\u200e',\n",
       " 'zh-tw': '中文（台灣）\\u200e',\n",
       " 'zh-yue': '粵語',\n",
       " 'zu': 'isiZulu'}"
      ]
     },
     "execution_count": 7,
     "metadata": {},
     "output_type": "execute_result"
    }
   ],
   "source": [
    "code2lang"
   ]
  },
  {
   "cell_type": "code",
   "execution_count": 9,
   "metadata": {},
   "outputs": [],
   "source": [
    "# выберем несколько языков с кириллическим алфавитом (судя по названию языка)\n",
    "langs = ['be', 'bg', 'ky', 'lez' , 'mhr', 'mn', 'mk', 'mo', 'ru', 'sty', 'uk', 'en']"
   ]
  },
  {
   "cell_type": "code",
   "execution_count": 10,
   "metadata": {},
   "outputs": [
    {
     "data": {
      "text/plain": [
       "['беларуская',\n",
       " 'български',\n",
       " 'Кыргызча',\n",
       " 'лезги',\n",
       " 'олык марий',\n",
       " 'монгол',\n",
       " 'македонски',\n",
       " 'молдовеняскэ',\n",
       " 'русский',\n",
       " 'cебертатар',\n",
       " 'українська',\n",
       " 'English']"
      ]
     },
     "execution_count": 10,
     "metadata": {},
     "output_type": "execute_result"
    }
   ],
   "source": [
    "# расшифровка \n",
    "[code2lang[lang] for lang  in langs]"
   ]
  },
  {
   "cell_type": "markdown",
   "metadata": {},
   "source": [
    "Выбрать какие-то случайные статьи можно с помощью функции wikipedia.random(n) (n - число статей)\n",
    "\n",
    "Скачивание занимает некоторое время и может выдавать всякие непредсказуемые ошибки, поэтому не забывайте про добавлять обработчик исключения в аналогичные функции."
   ]
  },
  {
   "cell_type": "code",
   "execution_count": null,
   "metadata": {},
   "outputs": [],
   "source": [
    "def get_texts_for_lang(lang, n=100): # функция для скачивания статей из википедии\n",
    "    wikipedia.set_lang(lang)\n",
    "    wiki_content = []\n",
    "    pages = wikipedia.random(n)\n",
    "    \n",
    "    for page_name in pages:\n",
    "        try:\n",
    "            page = wikipedia.page(page_name)\n",
    "        \n",
    "        except Exception as e:\n",
    "            print('Skipping page {}'.format(page_name), e)\n",
    "            continue\n",
    "\n",
    "        wiki_content.append('{}\\n{}'.format(page.title, page.content.replace('==', '')))\n",
    "\n",
    "    return wiki_content"
   ]
  },
  {
   "cell_type": "code",
   "execution_count": null,
   "metadata": {},
   "outputs": [],
   "source": [
    "# скачиваем по 120 случайных статей для каждого языка\n",
    "wiki_texts_test = {}\n",
    "for lang in langs:\n",
    "    try:\n",
    "        wiki_texts_test[lang] = get_texts_for_lang(lang, 10)\n",
    "    except Exception as e:\n",
    "        print('ERROR ON - ', lang, e)\n",
    "        continue\n",
    "    print(lang, len(wiki_texts_test[lang]))"
   ]
  },
  {
   "cell_type": "markdown",
   "metadata": {},
   "source": [
    "Я сделал это заранее, чтобы вам не пришлось мучаться."
   ]
  },
  {
   "cell_type": "code",
   "execution_count": 11,
   "metadata": {},
   "outputs": [],
   "source": [
    "wiki_texts = json.loads(open('wiki_texts.json', 'r', encoding='utf8').read())"
   ]
  },
  {
   "cell_type": "markdown",
   "metadata": {},
   "source": [
    "## Как можно определить язык?"
   ]
  },
  {
   "cell_type": "markdown",
   "metadata": {},
   "source": [
    "### 1 По набору букв"
   ]
  },
  {
   "cell_type": "markdown",
   "metadata": {},
   "source": [
    "У каждого языка есть какой-то определенный набор символов, которые в нем используются. Даже между двумя очень близкими языками есть различия на уровне символовов. Попробуем определять язык по множеству символов."
   ]
  },
  {
   "cell_type": "code",
   "execution_count": 12,
   "metadata": {},
   "outputs": [],
   "source": [
    "from collections import defaultdict\n",
    "from string import punctuation, digits\n",
    "punctuation = set(punctuation + '«»—…“”\\n\\t' + digits)"
   ]
  },
  {
   "cell_type": "markdown",
   "metadata": {},
   "source": [
    "Создадим множества символов, представляющих язык, по скачанным текстам."
   ]
  },
  {
   "cell_type": "markdown",
   "metadata": {},
   "source": [
    "Нужно создать словарь, в котром каждому ключу соотвествует множество. Удобно это сделать с помощью defaultdict. Он устроен примерно как обычный питоновский словарь, но ему можно задать значение нового ключа по умолчанию. \n",
    "Синтаксис такой:\n",
    "\n",
    "***d = defaultdict(callable)***\n",
    "\n",
    "\n",
    "callable - это такой питоновский объект, который можно вызвать (добавив скобки) и он что-то вернет. Соответственно, для каждого нового элемента будет вызываться этот callable и присваивать элементу значение, которое он вернет. \n",
    "Например, **set** - это callable, который при вызове ***set()*** вернет пустое множество. То есть, каждому новому элементу будет соответствовать пустое множество. Аналогично будет с int, dict, tuple, str, float.\n",
    "\n",
    "Если нужно сделать какой-то особое значение по умолчанию, можно написать отдельную функцию или сделать это через lambda. Например, lamda: {'хороших':0, 'плохих':0} сделает так, чтобы каждому элементу по умолчанию ставился словарь с двумя ключами (хороших, плохих) и нулевыми значениями.\n",
    "\n",
    "Когда используете defaultdict, помните, d['random_stuff'] не выдаст никакой ошибки и у вас в словаре появится этот объект.\n"
   ]
  },
  {
   "cell_type": "code",
   "execution_count": 13,
   "metadata": {},
   "outputs": [],
   "source": [
    "lang2chars = defaultdict(set)\n",
    "\n",
    "# операция \"-\" для множества означает разность, т.е. \"все елементы x, которых нет в y\"\n",
    "# удобно таким образом отфильтровать все знаки пунктуации\n",
    "for lang in wiki_texts:\n",
    "    for text in wiki_texts[lang]:\n",
    "        text_set = set(text.lower()) - punctuation\n",
    "        lang2chars[lang].update(text_set)"
   ]
  },
  {
   "cell_type": "code",
   "execution_count": 14,
   "metadata": {},
   "outputs": [
    {
     "data": {
      "text/plain": [
       "dict_keys(['mn', 'lez', 'mhr', 'uk', 'be', 'ru', 'ky', 'mk', 'en', 'bg'])"
      ]
     },
     "execution_count": 14,
     "metadata": {},
     "output_type": "execute_result"
    }
   ],
   "source": [
    "lang2chars.keys()"
   ]
  },
  {
   "cell_type": "code",
   "execution_count": 15,
   "metadata": {},
   "outputs": [
    {
     "data": {
      "text/plain": [
       "166"
      ]
     },
     "execution_count": 15,
     "metadata": {},
     "output_type": "execute_result"
    }
   ],
   "source": [
    "# посмотрим на какой-нибудь язык\n",
    "len(lang2chars['ru'])"
   ]
  },
  {
   "cell_type": "code",
   "execution_count": 16,
   "metadata": {},
   "outputs": [
    {
     "data": {
      "text/plain": [
       "{' ',\n",
       " 'a',\n",
       " 'b',\n",
       " 'c',\n",
       " 'd',\n",
       " 'e',\n",
       " 'f',\n",
       " 'g',\n",
       " 'h',\n",
       " 'i',\n",
       " 'j',\n",
       " 'k',\n",
       " 'l',\n",
       " 'm',\n",
       " 'n',\n",
       " 'o',\n",
       " 'p',\n",
       " 'q',\n",
       " 'r',\n",
       " 's',\n",
       " 't',\n",
       " 'u',\n",
       " 'v',\n",
       " 'w',\n",
       " 'x',\n",
       " 'y',\n",
       " 'z',\n",
       " '°',\n",
       " '²',\n",
       " '³',\n",
       " '¹',\n",
       " '×',\n",
       " 'ß',\n",
       " 'à',\n",
       " 'â',\n",
       " 'ã',\n",
       " 'ä',\n",
       " 'ç',\n",
       " 'è',\n",
       " 'é',\n",
       " 'ë',\n",
       " 'ó',\n",
       " 'õ',\n",
       " 'ö',\n",
       " 'û',\n",
       " 'ü',\n",
       " 'ā',\n",
       " 'ą',\n",
       " 'č',\n",
       " 'ė',\n",
       " 'ī',\n",
       " 'ı',\n",
       " 'ś',\n",
       " 'ş',\n",
       " 'š',\n",
       " 'ž',\n",
       " 'ɐ',\n",
       " 'ɔ',\n",
       " 'ɛ',\n",
       " 'ɫ',\n",
       " 'ɾ',\n",
       " 'ʃ',\n",
       " 'ˈ',\n",
       " 'ː',\n",
       " '́',\n",
       " 'ά',\n",
       " 'α',\n",
       " 'ε',\n",
       " 'κ',\n",
       " 'λ',\n",
       " 'μ',\n",
       " 'ν',\n",
       " 'ξ',\n",
       " 'ο',\n",
       " 'π',\n",
       " 'ρ',\n",
       " 'ς',\n",
       " 'σ',\n",
       " 'τ',\n",
       " 'υ',\n",
       " 'χ',\n",
       " 'ω',\n",
       " 'ό',\n",
       " 'ώ',\n",
       " 'а',\n",
       " 'б',\n",
       " 'в',\n",
       " 'г',\n",
       " 'д',\n",
       " 'е',\n",
       " 'ж',\n",
       " 'з',\n",
       " 'и',\n",
       " 'й',\n",
       " 'к',\n",
       " 'л',\n",
       " 'м',\n",
       " 'н',\n",
       " 'о',\n",
       " 'п',\n",
       " 'р',\n",
       " 'с',\n",
       " 'т',\n",
       " 'у',\n",
       " 'ф',\n",
       " 'х',\n",
       " 'ц',\n",
       " 'ч',\n",
       " 'ш',\n",
       " 'щ',\n",
       " 'ъ',\n",
       " 'ы',\n",
       " 'ь',\n",
       " 'э',\n",
       " 'ю',\n",
       " 'я',\n",
       " 'ё',\n",
       " 'ѕ',\n",
       " 'і',\n",
       " 'ї',\n",
       " 'ѣ',\n",
       " 'ѧ',\n",
       " 'ѹ',\n",
       " '҂',\n",
       " '҃',\n",
       " 'ҡ',\n",
       " 'ү',\n",
       " 'ә',\n",
       " 'ر',\n",
       " 'م',\n",
       " 'ه',\n",
       " 'ṃ',\n",
       " 'ṇ',\n",
       " 'ả',\n",
       " 'ế',\n",
       " 'ị',\n",
       " 'ủ',\n",
       " 'ử',\n",
       " 'ἄ',\n",
       " 'ὀ',\n",
       " 'ὄ',\n",
       " 'ᾰ',\n",
       " 'ῑ',\n",
       " 'ῶ',\n",
       " '\\u200e',\n",
       " '–',\n",
       " '’',\n",
       " '„',\n",
       " '№',\n",
       " '→',\n",
       " '−',\n",
       " '≤',\n",
       " '⋅',\n",
       " '⩾',\n",
       " '井',\n",
       " '圭',\n",
       " '奈',\n",
       " '文',\n",
       " '松',\n",
       " '梨',\n",
       " '武',\n",
       " '田',\n",
       " '章',\n",
       " '규',\n",
       " '문',\n",
       " '장'}"
      ]
     },
     "execution_count": 16,
     "metadata": {},
     "output_type": "execute_result"
    }
   ],
   "source": [
    "lang2chars['ru']"
   ]
  },
  {
   "cell_type": "markdown",
   "metadata": {},
   "source": [
    "Теперь сделаем функцию, которая предсказывает язык на основе пересечения множеств символов."
   ]
  },
  {
   "cell_type": "code",
   "execution_count": 18,
   "metadata": {},
   "outputs": [],
   "source": [
    "# оператор & означает пересечение\n",
    "\n",
    "def predict_language(text, lang2char):\n",
    "    text_chars = set(text.lower())\n",
    "    lang2sim = {}\n",
    "    for lang in lang2char:\n",
    "        intersect = len((text_chars - punctuation) & lang2char[lang])\n",
    "        lang2sim[lang] = intersect\n",
    "    \n",
    "    return max(lang2sim.items(), key=lambda x: x[1])[0]"
   ]
  },
  {
   "cell_type": "code",
   "execution_count": 19,
   "metadata": {},
   "outputs": [
    {
     "data": {
      "text/plain": [
       "'lez'"
      ]
     },
     "execution_count": 19,
     "metadata": {},
     "output_type": "execute_result"
    }
   ],
   "source": [
    "predict_language('что это за язык такой?', lang2chars)"
   ]
  },
  {
   "cell_type": "code",
   "execution_count": 22,
   "metadata": {},
   "outputs": [],
   "source": [
    "# отклассифицурем все тексты, которые у нас есть\n",
    "from sklearn.metrics import classification_report, confusion_matrix"
   ]
  },
  {
   "cell_type": "code",
   "execution_count": 23,
   "metadata": {},
   "outputs": [],
   "source": [
    "true_labels = []\n",
    "predicted_labels = []\n",
    "\n",
    "for lang in wiki_texts:\n",
    "    for text in wiki_texts[lang]:\n",
    "        true_labels.append(lang)\n",
    "        predicted_labels.append(predict_language(text, lang2chars))"
   ]
  },
  {
   "cell_type": "code",
   "execution_count": 24,
   "metadata": {},
   "outputs": [
    {
     "name": "stdout",
     "output_type": "stream",
     "text": [
      "             precision    recall  f1-score   support\n",
      "\n",
      "         be       0.79      0.15      0.26        97\n",
      "         bg       1.00      0.30      0.46        98\n",
      "         en       1.00      0.21      0.35        94\n",
      "         ky       1.00      0.49      0.66       100\n",
      "        lez       0.34      1.00      0.51       100\n",
      "        mhr       0.44      0.95      0.60        97\n",
      "         mk       1.00      0.82      0.90       100\n",
      "         mn       0.96      0.28      0.43        98\n",
      "         ru       0.88      0.25      0.39        91\n",
      "         uk       0.37      0.85      0.52        93\n",
      "\n",
      "avg / total       0.78      0.53      0.51       968\n",
      "\n"
     ]
    }
   ],
   "source": [
    "print(classification_report(true_labels, predicted_labels))"
   ]
  },
  {
   "cell_type": "code",
   "execution_count": 25,
   "metadata": {},
   "outputs": [],
   "source": [
    "labels = list(set(true_labels))"
   ]
  },
  {
   "cell_type": "code",
   "execution_count": 26,
   "metadata": {},
   "outputs": [
    {
     "name": "stdout",
     "output_type": "stream",
     "text": [
      "[[ 20   2  10   4   0  54   4   0   0   0]\n",
      " [  0  23   5   0   0  59   4   0   0   0]\n",
      " [  0   0  79   0   0  10   4   0   0   0]\n",
      " [  0   0  81  15   0   1   0   0   0   0]\n",
      " [  0   1   0   0  27   0  70   0   0   0]\n",
      " [  0   0   0   0   0 100   0   0   0   0]\n",
      " [  0   0   0   0   0   5  92   0   0   0]\n",
      " [  0   0   1   0   1  17  32  49   0   0]\n",
      " [  0   0   0   0   0  18   0   0  82   0]\n",
      " [  0   0  36   0   0  31   2   0   0  29]]\n"
     ]
    }
   ],
   "source": [
    "print(confusion_matrix(true_labels, predicted_labels, labels = labels))"
   ]
  },
  {
   "cell_type": "code",
   "execution_count": null,
   "metadata": {},
   "outputs": [],
   "source": []
  },
  {
   "cell_type": "code",
   "execution_count": 29,
   "metadata": {},
   "outputs": [],
   "source": [
    "import seaborn as sns\n",
    "import matplotlib.pyplot as plt\n",
    "%matplotlib inline  "
   ]
  },
  {
   "cell_type": "code",
   "execution_count": 30,
   "metadata": {},
   "outputs": [
    {
     "name": "stderr",
     "output_type": "stream",
     "text": [
      "/usr/local/lib/python3.5/dist-packages/pandas/core/computation/check.py:17: UserWarning: The installed version of numexpr 2.4.3 is not supported in pandas and will be not be used\n",
      "The minimum supported version is 2.4.6\n",
      "\n",
      "  ver=ver, min_ver=_MIN_NUMEXPR_VERSION), UserWarning)\n"
     ]
    },
    {
     "data": {
      "image/png": "[encoded data removed]",
      "text/plain": [
       "<matplotlib.figure.Figure at 0x7f0278bb06d8>"
      ]
     },
     "metadata": {},
     "output_type": "display_data"
    }
   ],
   "source": [
    "fig, ax = plt.subplots(figsize=(10,5))\n",
    "sns.heatmap(data=confusion_matrix(true_labels, predicted_labels, labels = labels), \n",
    "            annot=True, \n",
    "            fmt=\"d\", xticklabels=labels, yticklabels=labels, ax=ax)\n",
    "plt.title(\"Confusion matrix\")\n",
    "plt.show()"
   ]
  },
  {
   "cell_type": "markdown",
   "metadata": {},
   "source": [
    "### 2 По набору буквенных нграм"
   ]
  },
  {
   "cell_type": "markdown",
   "metadata": {},
   "source": [
    "Буквенных нграм слишком много для одного множества, поэтому нужно как-то выделить топ-N."
   ]
  },
  {
   "cell_type": "markdown",
   "metadata": {},
   "source": [
    "Для частотностей есть Counter. По сути это ***defaultdict(int)*** только немного удобнее.\n",
    "Можно создавать Counter из любого itarable объекта, складывать два каунтера (одинаковые знаения сложатся, а новые просто добавятся, удобно сортировать элементы по частотности методов Counter.most_common(topn)"
   ]
  },
  {
   "cell_type": "code",
   "execution_count": 31,
   "metadata": {},
   "outputs": [],
   "source": [
    "from collections import Counter"
   ]
  },
  {
   "cell_type": "code",
   "execution_count": 32,
   "metadata": {},
   "outputs": [],
   "source": [
    "# функция для создания нграммов из строки\n",
    "def n_grams(a, n):\n",
    "    ngrams = [a[i:i+n] for i in range(0, len(a)-n+1)]\n",
    "    return set(ngrams)"
   ]
  },
  {
   "cell_type": "code",
   "execution_count": 33,
   "metadata": {},
   "outputs": [
    {
     "data": {
      "text/plain": [
       "{'12', '23', '34', '45'}"
      ]
     },
     "execution_count": 33,
     "metadata": {},
     "output_type": "execute_result"
    }
   ],
   "source": [
    "n_grams('12345', 2)"
   ]
  },
  {
   "cell_type": "code",
   "execution_count": 38,
   "metadata": {},
   "outputs": [],
   "source": [
    "# посчитаем частотность нграммов\n",
    "lang2char_ngrams_freqs = defaultdict(Counter)\n",
    "table = str.maketrans({ch: None for ch in punctuation})\n",
    "\n",
    "for lang in wiki_texts:\n",
    "    for text in wiki_texts[lang]:\n",
    "        char_ngrams = n_grams(text.lower().strip(' ').translate(table), 3)\n",
    "        lang2char_ngrams_freqs[lang].update(char_ngrams)\n",
    "\n",
    "# сделаем множества с топ 300 нграммамим\n",
    "\n",
    "lang2char_ngrams = {}\n",
    "for lang in lang2char_ngrams_freqs:\n",
    "    topn = [word for word, freq in lang2char_ngrams_freqs[lang].most_common(300)]\n",
    "    lang2char_ngrams[lang] = set(topn)\n"
   ]
  },
  {
   "cell_type": "code",
   "execution_count": 39,
   "metadata": {},
   "outputs": [],
   "source": [
    "def predict_language(text, lang2char):\n",
    "    text_ngrams = n_grams(text.lower().translate(table), 3)\n",
    "    \n",
    "    lang2sim = {}\n",
    "    \n",
    "    for lang in lang2char:\n",
    "        intersect = len((text_ngrams - punctuation) & lang2char[lang])\n",
    "        lang2sim[lang] = intersect\n",
    "    \n",
    "    return max(lang2sim, key=lambda x: lang2sim[x])\n",
    "#     return lang2sim"
   ]
  },
  {
   "cell_type": "code",
   "execution_count": 40,
   "metadata": {},
   "outputs": [
    {
     "data": {
      "text/plain": [
       "'ru'"
      ]
     },
     "execution_count": 40,
     "metadata": {},
     "output_type": "execute_result"
    }
   ],
   "source": [
    "predict_language('Что это за язык ещё такой', lang2char_ngrams)"
   ]
  },
  {
   "cell_type": "code",
   "execution_count": 41,
   "metadata": {},
   "outputs": [],
   "source": [
    "true_labels = []\n",
    "predicted_labels = []\n",
    "\n",
    "for lang in wiki_texts:\n",
    "    for text in wiki_texts[lang]:\n",
    "        true_labels.append(lang)\n",
    "        predicted_labels.append(predict_language(text, lang2char_ngrams))"
   ]
  },
  {
   "cell_type": "code",
   "execution_count": 42,
   "metadata": {},
   "outputs": [
    {
     "name": "stdout",
     "output_type": "stream",
     "text": [
      "             precision    recall  f1-score   support\n",
      "\n",
      "         be       1.00      1.00      1.00        97\n",
      "         bg       1.00      0.98      0.99        98\n",
      "         en       0.92      1.00      0.96        94\n",
      "         ky       0.99      0.99      0.99       100\n",
      "        lez       0.98      0.97      0.97       100\n",
      "        mhr       1.00      0.95      0.97        97\n",
      "         mk       0.99      1.00      1.00       100\n",
      "         mn       1.00      0.96      0.98        98\n",
      "         ru       0.98      1.00      0.99        91\n",
      "         uk       0.99      1.00      0.99        93\n",
      "\n",
      "avg / total       0.99      0.98      0.98       968\n",
      "\n"
     ]
    }
   ],
   "source": [
    "print(classification_report(true_labels, predicted_labels))"
   ]
  },
  {
   "cell_type": "code",
   "execution_count": null,
   "metadata": {},
   "outputs": [],
   "source": [
    "# Лучше тут уже некуда"
   ]
  },
  {
   "cell_type": "markdown",
   "metadata": {},
   "source": [
    "## Задание"
   ]
  },
  {
   "cell_type": "markdown",
   "metadata": {},
   "source": [
    "Напишите функцию, которая будет принимать текст производной длинны и языка (из тех, что у нас уже есть) и выводить основной язык и слова, которые не соответствуют это языку текста.\n",
    "\n",
    "То есть по запросу \"шо это за язык?\n",
    "должно получится \"Основной язык  - ru, не соотвествующее слова: шо\""
   ]
  },
  {
   "cell_type": "code",
   "execution_count": null,
   "metadata": {},
   "outputs": [],
   "source": [
    "def predict_foreign_words(text):\n",
    "    # ваш код здесь\n",
    "    # ...\n",
    "    \n",
    "    return lang, foreign_words"
   ]
  },
  {
   "cell_type": "code",
   "execution_count": null,
   "metadata": {},
   "outputs": [],
   "source": [
    "test_text_1 = 'Младший лейтенант мальчик молодой everybody хотят to dance с тобой'\n",
    "print(predict_foreign_words(test_text_1))"
   ]
  },
  {
   "cell_type": "code",
   "execution_count": null,
   "metadata": {},
   "outputs": [],
   "source": [
    "test_text_2 = 'Тут хто-нэбудь розмовляйе по-русски?'\n",
    "print(predict_foreign_words(test_text_2 ))"
   ]
  },
  {
   "cell_type": "code",
   "execution_count": null,
   "metadata": {},
   "outputs": [],
   "source": [
    "test_text_3 = 'Як дабрацца росссийского пасольства??'\n",
    "print(predict_foreign_words(test_text_3 ))"
   ]
  },
  {
   "cell_type": "code",
   "execution_count": null,
   "metadata": {},
   "outputs": [],
   "source": [
    "test_text_4 = 'Ончыч Куженер кундемысе «Ӱжара» газета редакторлан тыршен,\\\n",
    "вара райсовет исполкомын вуйлатышыжлан,\\\n",
    "КПСС райкомын икымше секретарьжылан ыштен.'\n",
    "print(predict_foreign_words(test_text_4))"
   ]
  },
  {
   "cell_type": "code",
   "execution_count": null,
   "metadata": {},
   "outputs": [],
   "source": []
  },
  {
   "cell_type": "markdown",
   "metadata": {},
   "source": [
    "### Дополнительное задание"
   ]
  },
  {
   "cell_type": "markdown",
   "metadata": {},
   "source": [
    "До этого мы учитывали только само наличие нграмм или символов, но очевидно, что важно ещё и распределние частот по этим нграммам. В родственных языках символы могут быть почти одинаковые, но вот частота употребления точно будет отличаться."
   ]
  },
  {
   "cell_type": "markdown",
   "metadata": {},
   "source": [
    "Попробуем представить каждый язык как распределение на символьных нграммах."
   ]
  },
  {
   "cell_type": "code",
   "execution_count": null,
   "metadata": {},
   "outputs": [],
   "source": [
    "import numpy as np"
   ]
  },
  {
   "cell_type": "code",
   "execution_count": null,
   "metadata": {},
   "outputs": [],
   "source": [
    "# cоздадим общий словарь нграммов с частотностью\n",
    "vocab = Counter()\n",
    "\n",
    "for lang in wiki_texts:\n",
    "    for text in wiki_texts[lang]:\n",
    "        vocab.update(n_grams(text.lower().translate(table), 2))\n",
    "\n",
    "# выберем топ-300 нграммов и сохраним их в список\n",
    "vocab = [word for word,_ in vocab.most_common(300)]\n",
    "#сделаем словарь нграм-индекс, индекс слова для удобства\n",
    "id2ngram = {i:ngram for i, ngram in enumerate(vocab)}\n",
    "ngram2id = {ngram:i for i, ngram in enumerate(vocab)}"
   ]
  },
  {
   "cell_type": "markdown",
   "metadata": {},
   "source": [
    "Теперь нужно представить каждый язык, как вектор размером словаря."
   ]
  },
  {
   "cell_type": "code",
   "execution_count": null,
   "metadata": {},
   "outputs": [],
   "source": [
    "# воспользуемся defauldict\n",
    "# по умолчанию каждому элементу поставим в соотвествие np.zeros((len(vocab)))"
   ]
  },
  {
   "cell_type": "code",
   "execution_count": null,
   "metadata": {},
   "outputs": [],
   "source": [
    "lang2vec = defaultdict(lambda: np.zeros((len(vocab))))"
   ]
  },
  {
   "cell_type": "markdown",
   "metadata": {},
   "source": [
    "Теперь попробуйте написать код, который заполнит вектора языков числами."
   ]
  },
  {
   "cell_type": "code",
   "execution_count": null,
   "metadata": {},
   "outputs": [],
   "source": [
    "for lang in wiki_texts:\n",
    "    for text in wiki_texts[lang]:\n",
    "        ngrams = n_grams(text.lower().translate(table), 2)\n",
    "        for ngram in ngrams:\n",
    "            # ваш код здесь\n",
    "            # ...\n",
    "            \n",
    "            lang2vec[lang][index] =\n",
    "            "
   ]
  },
  {
   "cell_type": "code",
   "execution_count": null,
   "metadata": {},
   "outputs": [],
   "source": [
    "# lang2vec"
   ]
  },
  {
   "cell_type": "markdown",
   "metadata": {},
   "source": [
    "Перепишите функцию определения языка, чтобы она считала не пересечение с множеством, а косинусную близость."
   ]
  },
  {
   "cell_type": "code",
   "execution_count": null,
   "metadata": {},
   "outputs": [],
   "source": [
    "from sklearn.metrics.pairwise import cosine_similarity\n",
    "\n",
    "def predict_language(text, lang2vec):\n",
    "    text_ngrams = n_grams(text.lower().translate(table), 3)\n",
    "    vec = np.zeros(len(vocab))\n",
    "    \n",
    "    # ваш код здесь\n",
    "    # ...\n",
    "    \n",
    "    lang2sim = {}\n",
    "    \n",
    "    for lang in lang2vec:\n",
    "        # ваш код здесь\n",
    "        #...\n",
    "        \n",
    "        similarity = cosine_similarity() # добавьте нужные аргументы\n",
    "        \n",
    "        lang2sim[lang] = similarity\n",
    "    \n",
    "    return max(lang2sim, key=lambda x: lang2sim[x])\n"
   ]
  },
  {
   "cell_type": "markdown",
   "metadata": {},
   "source": [
    "Проверьте качество на небольшой тестовой выборке."
   ]
  },
  {
   "cell_type": "code",
   "execution_count": null,
   "metadata": {},
   "outputs": [],
   "source": [
    "wiki_texts_test = json.loads(open('wiki_texts_test.json', encoding='utf8').read())"
   ]
  },
  {
   "cell_type": "code",
   "execution_count": null,
   "metadata": {},
   "outputs": [],
   "source": [
    "true_labels = []\n",
    "predicted_labels = []\n",
    "\n",
    "for lang in wiki_texts_test:\n",
    "    for text in wiki_texts_test[lang]:\n",
    "        true_labels.append(lang)\n",
    "        predicted_labels.append(predict_language(text, lang2vec))"
   ]
  },
  {
   "cell_type": "code",
   "execution_count": null,
   "metadata": {},
   "outputs": [],
   "source": []
  },
  {
   "cell_type": "code",
   "execution_count": null,
   "metadata": {},
   "outputs": [],
   "source": [
    "print(classification_report(true_labels, predicted_labels))"
   ]
  }
 ],
 "metadata": {
  "anaconda-cloud": {},
  "kernelspec": {
   "display_name": "Python 3",
   "language": "python",
   "name": "python3"
  },
  "language_info": {
   "codemirror_mode": {
    "name": "ipython",
    "version": 3
   },
   "file_extension": ".py",
   "mimetype": "text/x-python",
   "name": "python",
   "nbconvert_exporter": "python",
   "pygments_lexer": "ipython3",
   "version": "3.5.2"
  }
 },
 "nbformat": 4,
 "nbformat_minor": 1
}
