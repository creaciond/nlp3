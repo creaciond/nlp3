{
 "cells": [
  {
   "cell_type": "markdown",
   "metadata": {},
   "source": [
    "# Векторные представления слов."
   ]
  },
  {
   "cell_type": "code",
   "execution_count": 3,
   "metadata": {},
   "outputs": [],
   "source": [
    "import gensim\n",
    "import numpy as np\n",
    "from sklearn.cluster import MiniBatchKMeans\n",
    "from sklearn.metrics.pairwise import cosine_distances\n",
    "from collections import defaultdict\n",
    "import warnings\n",
    "warnings.filterwarnings('ignore')"
   ]
  },
  {
   "cell_type": "markdown",
   "metadata": {},
   "source": [
    "Загрузим данные из тех же файлов."
   ]
  },
  {
   "cell_type": "code",
   "execution_count": 2,
   "metadata": {},
   "outputs": [
    {
     "name": "stdout",
     "output_type": "stream",
     "text": [
      "Collecting gensim\n",
      "\u001b[?25l  Downloading https://files.pythonhosted.org/packages/82/f2/c2f2c87ed72483fce010fbfea1a3adbd168c0f0dafc878cbfb5a76381b03/gensim-3.4.0-cp36-cp36m-macosx_10_6_intel.macosx_10_9_intel.macosx_10_9_x86_64.macosx_10_10_intel.macosx_10_10_x86_64.whl (22.8MB)\n",
      "\u001b[K    100% |████████████████████████████████| 22.8MB 48kB/s ta 0:00:015\n",
      "\u001b[?25hRequirement already satisfied: six>=1.5.0 in /anaconda3/lib/python3.6/site-packages (from gensim) (1.11.0)\n",
      "Requirement already satisfied: numpy>=1.11.3 in /anaconda3/lib/python3.6/site-packages (from gensim) (1.14.2)\n",
      "Collecting smart-open>=1.2.1 (from gensim)\n",
      "  Downloading https://files.pythonhosted.org/packages/4b/69/c92661a333f733510628f28b8282698b62cdead37291c8491f3271677c02/smart_open-1.5.7.tar.gz\n",
      "Requirement already satisfied: scipy>=0.18.1 in /anaconda3/lib/python3.6/site-packages (from gensim) (1.0.0)\n",
      "Requirement already satisfied: boto>=2.32 in /anaconda3/lib/python3.6/site-packages (from smart-open>=1.2.1->gensim) (2.48.0)\n",
      "Collecting bz2file (from smart-open>=1.2.1->gensim)\n",
      "  Downloading https://files.pythonhosted.org/packages/61/39/122222b5e85cd41c391b68a99ee296584b2a2d1d233e7ee32b4532384f2d/bz2file-0.98.tar.gz\n",
      "Requirement already satisfied: requests in /anaconda3/lib/python3.6/site-packages (from smart-open>=1.2.1->gensim) (2.18.4)\n",
      "Collecting boto3 (from smart-open>=1.2.1->gensim)\n",
      "\u001b[?25l  Downloading https://files.pythonhosted.org/packages/d1/1d/7e85f1da7c544ade28e6a195dd80ac6f09a058ae10579e1dc381dd36363a/boto3-1.7.25-py2.py3-none-any.whl (128kB)\n",
      "\u001b[K    100% |████████████████████████████████| 133kB 66kB/s ta 0:00:01\n",
      "\u001b[?25hRequirement already satisfied: chardet<3.1.0,>=3.0.2 in /anaconda3/lib/python3.6/site-packages (from requests->smart-open>=1.2.1->gensim) (3.0.4)\n",
      "Requirement already satisfied: idna<2.7,>=2.5 in /anaconda3/lib/python3.6/site-packages (from requests->smart-open>=1.2.1->gensim) (2.6)\n",
      "Requirement already satisfied: urllib3<1.23,>=1.21.1 in /anaconda3/lib/python3.6/site-packages (from requests->smart-open>=1.2.1->gensim) (1.22)\n",
      "Requirement already satisfied: certifi>=2017.4.17 in /anaconda3/lib/python3.6/site-packages (from requests->smart-open>=1.2.1->gensim) (2018.1.18)\n",
      "Collecting botocore<1.11.0,>=1.10.25 (from boto3->smart-open>=1.2.1->gensim)\n",
      "\u001b[?25l  Downloading https://files.pythonhosted.org/packages/ba/8c/b7fd7959b7571347fa6d81998101db1685ec4ffffa1ff80bc30deb89b1c2/botocore-1.10.25-py2.py3-none-any.whl (4.2MB)\n",
      "\u001b[K    100% |████████████████████████████████| 4.2MB 99kB/s ta 0:00:011    50% |████████████████                | 2.1MB 38kB/s eta 0:00:56\n",
      "\u001b[?25hCollecting jmespath<1.0.0,>=0.7.1 (from boto3->smart-open>=1.2.1->gensim)\n",
      "  Downloading https://files.pythonhosted.org/packages/b7/31/05c8d001f7f87f0f07289a5fc0fc3832e9a57f2dbd4d3b0fee70e0d51365/jmespath-0.9.3-py2.py3-none-any.whl\n",
      "Collecting s3transfer<0.2.0,>=0.1.10 (from boto3->smart-open>=1.2.1->gensim)\n",
      "\u001b[?25l  Downloading https://files.pythonhosted.org/packages/d7/14/2a0004d487464d120c9fb85313a75cd3d71a7506955be458eebfe19a6b1d/s3transfer-0.1.13-py2.py3-none-any.whl (59kB)\n",
      "\u001b[K    100% |████████████████████████████████| 61kB 32kB/s ta 0:00:01\n",
      "\u001b[?25hRequirement already satisfied: docutils>=0.10 in /anaconda3/lib/python3.6/site-packages (from botocore<1.11.0,>=1.10.25->boto3->smart-open>=1.2.1->gensim) (0.14)\n",
      "Requirement already satisfied: python-dateutil<3.0.0,>=2.1; python_version >= \"2.7\" in /anaconda3/lib/python3.6/site-packages (from botocore<1.11.0,>=1.10.25->boto3->smart-open>=1.2.1->gensim) (2.6.1)\n",
      "Building wheels for collected packages: smart-open, bz2file\n",
      "  Running setup.py bdist_wheel for smart-open ... \u001b[?25ldone\n",
      "\u001b[?25h  Stored in directory: /Users/dariamaximova/Library/Caches/pip/wheels/b1/9e/7d/bb3d3b55c597e72617140a0638c06382a5f17283881eae163e\n",
      "  Running setup.py bdist_wheel for bz2file ... \u001b[?25ldone\n",
      "\u001b[?25h  Stored in directory: /Users/dariamaximova/Library/Caches/pip/wheels/81/75/d6/e1317bf09bf1af5a30befc2a007869fa6e1f516b8f7c591cb9\n",
      "Successfully built smart-open bz2file\n",
      "Installing collected packages: bz2file, jmespath, botocore, s3transfer, boto3, smart-open, gensim\n",
      "Successfully installed boto3-1.7.25 botocore-1.10.25 bz2file-0.98 gensim-3.4.0 jmespath-0.9.3 s3transfer-0.1.13 smart-open-1.5.7\n"
     ]
    }
   ],
   "source": [
    "!pip install gensim"
   ]
  },
  {
   "cell_type": "code",
   "execution_count": 4,
   "metadata": {},
   "outputs": [],
   "source": [
    "sents = open('data/train_pos.out').read().split('\\n\\n') + \\\n",
    "        open('data/test_pos.out').read().split('\\n\\n')\n"
   ]
  },
  {
   "cell_type": "markdown",
   "metadata": {},
   "source": [
    "Для word2vec'а лучше использовать лемматизированные слова, а для fasttext'а подойдут и сырые слова."
   ]
  },
  {
   "cell_type": "code",
   "execution_count": 5,
   "metadata": {},
   "outputs": [],
   "source": [
    "# сохраним целые предложения на будущее\n",
    "sents_ = []\n",
    "\n",
    "# не будем учитывать слова короче 4 (так заодно выкинтся все знаки препинания)\n",
    "lemmas = []\n",
    "for sent in sents:\n",
    "    sent_lemmas = []\n",
    "    for line in sent.split('\\n'):\n",
    "        lemma = line.split('\\t')[1]\n",
    "        if len(lemma) > 3:\n",
    "            sent_lemmas.append(lemma.lower())\n",
    "    lemmas.append(sent_lemmas)\n",
    "\n",
    "raw = []\n",
    "for sent in sents:\n",
    "    sent_lemmas = []\n",
    "    s = []\n",
    "    for line in sent.split('\\n'):\n",
    "        lemma = line.split('\\t')[0]\n",
    "        s.append(lemma)\n",
    "        if len(lemma) > 3:\n",
    "            sent_lemmas.append(lemma.lower())\n",
    "    raw.append(sent_lemmas)\n",
    "    sents_.append(s)"
   ]
  },
  {
   "cell_type": "code",
   "execution_count": 6,
   "metadata": {},
   "outputs": [
    {
     "data": {
      "text/plain": [
       "83148"
      ]
     },
     "execution_count": 6,
     "metadata": {},
     "output_type": "execute_result"
    }
   ],
   "source": [
    "len(lemmas)"
   ]
  },
  {
   "cell_type": "code",
   "execution_count": 7,
   "metadata": {},
   "outputs": [
    {
     "data": {
      "text/plain": [
       "[['чей-то', 'рука', 'лечь', 'плечо'],\n",
       " ['голодать', 'мёрзнуть', 'вокзал', 'дождь', 'унижать', 'бить'],\n",
       " ['дальний', 'конец', 'лагерь', 'распространяться', 'аромат', 'жаркое'],\n",
       " ['потратить',\n",
       "  'куча',\n",
       "  'деньги',\n",
       "  'мнение',\n",
       "  'лишь',\n",
       "  'чтобы',\n",
       "  'поехать',\n",
       "  'пригород',\n",
       "  'встретиться',\n",
       "  'девочка',\n",
       "  'весь'],\n",
       " ['подчиняться',\n",
       "  'интуиция',\n",
       "  'строитель',\n",
       "  'приблизиться',\n",
       "  'котлован',\n",
       "  'который',\n",
       "  'расчёт',\n",
       "  'вскоре',\n",
       "  'должный',\n",
       "  'быть',\n",
       "  'заполниться',\n",
       "  'вода',\n",
       "  'напоследок',\n",
       "  'ощупать',\n",
       "  'каждый',\n",
       "  'брелок'],\n",
       " ['душа', 'попасть'],\n",
       " ['один',\n",
       "  'нежный',\n",
       "  'впечатлительный',\n",
       "  'девочка',\n",
       "  'увидеть',\n",
       "  'этот',\n",
       "  'фильм',\n",
       "  'сойти',\n",
       "  'начаться',\n",
       "  'буйный',\n",
       "  'помешательство',\n",
       "  'ужас',\n",
       "  'война'],\n",
       " ['присмотреть', 'себя', 'подарок', 'этот', 'дата'],\n",
       " ['близко',\n",
       "  'ночь',\n",
       "  'дружно',\n",
       "  'грузиться',\n",
       "  'собственный',\n",
       "  'выделенный',\n",
       "  'нужда',\n",
       "  'легковой',\n",
       "  'транспорт',\n",
       "  'убираться',\n",
       "  'город'],\n",
       " ['подозревать',\n",
       "  'вышедший',\n",
       "  'давным-давно',\n",
       "  'открытка',\n",
       "  'быть',\n",
       "  'какой-то',\n",
       "  'блог']]"
      ]
     },
     "execution_count": 7,
     "metadata": {},
     "output_type": "execute_result"
    }
   ],
   "source": [
    "lemmas[:10]"
   ]
  },
  {
   "cell_type": "code",
   "execution_count": 13,
   "metadata": {},
   "outputs": [],
   "source": [
    "# посмотрим параметры\n",
    "?gensim.models.Word2Vec"
   ]
  },
  {
   "cell_type": "code",
   "execution_count": 14,
   "metadata": {},
   "outputs": [],
   "source": [
    "w2v = gensim.models.Word2Vec(lemmas, size=200,sg=1, max_vocab_size=100000)"
   ]
  },
  {
   "cell_type": "code",
   "execution_count": 15,
   "metadata": {},
   "outputs": [
    {
     "data": {
      "text/plain": [
       "[('спорт', 0.9314305782318115),\n",
       " ('учитель', 0.9286872744560242),\n",
       " ('родственник', 0.9269474744796753),\n",
       " ('традиция', 0.924402117729187),\n",
       " ('творчество', 0.9240153431892395),\n",
       " ('роль', 0.9228749871253967),\n",
       " ('как_правило', 0.9225726127624512),\n",
       " ('родина', 0.9207941293716431),\n",
       " ('возраст', 0.920457124710083),\n",
       " ('семейный', 0.9192546606063843)]"
      ]
     },
     "execution_count": 15,
     "metadata": {},
     "output_type": "execute_result"
    }
   ],
   "source": [
    "# проверим что за модель получилась, посмотрев на близкие слова\n",
    "w2v.wv.most_similar('семья')"
   ]
  },
  {
   "cell_type": "code",
   "execution_count": 6,
   "metadata": {},
   "outputs": [],
   "source": [
    "# посмотрим параметры\n",
    "?gensim.models.FastText"
   ]
  },
  {
   "cell_type": "code",
   "execution_count": 16,
   "metadata": {},
   "outputs": [],
   "source": [
    "ft = gensim.models.FastText(raw, min_n=3, max_n=6, sg=1, size=100, max_vocab_size=100000)"
   ]
  },
  {
   "cell_type": "code",
   "execution_count": 20,
   "metadata": {},
   "outputs": [
    {
     "data": {
      "text/plain": [
       "[('мужчина', 0.9776095747947693),\n",
       " ('жена', 0.971518337726593),\n",
       " ('женщине', 0.9657437801361084),\n",
       " ('женщину', 0.9579909443855286),\n",
       " ('женская', 0.9570773243904114),\n",
       " ('женат', 0.9507824778556824),\n",
       " ('любимая', 0.9497514367103577),\n",
       " ('вина', 0.9495512843132019),\n",
       " ('женщин', 0.9483605623245239),\n",
       " ('всякая', 0.9473156929016113)]"
      ]
     },
     "execution_count": 20,
     "metadata": {},
     "output_type": "execute_result"
    }
   ],
   "source": [
    "# проверим что за модель получилась, посмотрев на близкие слова\n",
    "ft.wv.most_similar('женщина')"
   ]
  },
  {
   "cell_type": "markdown",
   "metadata": {},
   "source": [
    "### Как ни странно, но из одельных векторов слов можно сделать хорошие представления целых предложений.\n",
    "\n",
    "Для этого просто усредним векторы отдельных векторов."
   ]
  },
  {
   "cell_type": "code",
   "execution_count": 21,
   "metadata": {},
   "outputs": [],
   "source": [
    "X = np.zeros((len(lemmas), 200))\n",
    "\n",
    "for i, sent in enumerate(lemmas):\n",
    "    try:\n",
    "        vectors = w2v[sent]\n",
    "    except (KeyError, ValueError):\n",
    "        continue\n",
    "    \n",
    "    average_vector = np.mean(vectors, axis=0)\n",
    "    X[i] = average_vector"
   ]
  },
  {
   "cell_type": "markdown",
   "metadata": {},
   "source": [
    "Можно также искать похожие предложения с помощью косинусной близости (или каких-то других метрик)"
   ]
  },
  {
   "cell_type": "code",
   "execution_count": 22,
   "metadata": {},
   "outputs": [
    {
     "data": {
      "text/plain": [
       "['Со', 'времени', 'ее', 'отъезда', 'прошло', 'три', 'года', '.']"
      ]
     },
     "execution_count": 22,
     "metadata": {},
     "output_type": "execute_result"
    }
   ],
   "source": [
    "sents_[26]"
   ]
  },
  {
   "cell_type": "code",
   "execution_count": 24,
   "metadata": {},
   "outputs": [
    {
     "data": {
      "text/plain": [
       "array([[   26, 54970, 57904, ..., 32956, 60599, 41573]])"
      ]
     },
     "execution_count": 24,
     "metadata": {},
     "output_type": "execute_result"
    }
   ],
   "source": [
    "cosine_distances(X[26].reshape(1,-1), X).argsort()"
   ]
  },
  {
   "cell_type": "code",
   "execution_count": 25,
   "metadata": {},
   "outputs": [
    {
     "data": {
      "text/plain": [
       "['С', 'тех', 'пор', 'прошло', 'немало', 'времени', '.']"
      ]
     },
     "execution_count": 25,
     "metadata": {},
     "output_type": "execute_result"
    }
   ],
   "source": [
    "sents_[54970]"
   ]
  },
  {
   "cell_type": "markdown",
   "metadata": {},
   "source": [
    "Для наглядности кластеризуем предложения и посмотрим какие получаются кластеры."
   ]
  },
  {
   "cell_type": "code",
   "execution_count": 26,
   "metadata": {},
   "outputs": [
    {
     "name": "stdout",
     "output_type": "stream",
     "text": [
      "Init 1/3 with method: k-means++\n",
      "Inertia for init 1/3: 4.577089\n",
      "Init 2/3 with method: k-means++\n",
      "Inertia for init 2/3: 4.929391\n",
      "Init 3/3 with method: k-means++\n",
      "Inertia for init 3/3: 5.525910\n",
      "Minibatch iteration 1/83200: mean batch inertia: 0.096289, ewa inertia: 0.096289 \n",
      "Minibatch iteration 2/83200: mean batch inertia: 0.113559, ewa inertia: 0.096331 \n",
      "Minibatch iteration 3/83200: mean batch inertia: 0.120676, ewa inertia: 0.096389 \n",
      "Minibatch iteration 4/83200: mean batch inertia: 0.119075, ewa inertia: 0.096444 \n",
      "Minibatch iteration 5/83200: mean batch inertia: 0.100133, ewa inertia: 0.096453 \n",
      "Minibatch iteration 6/83200: mean batch inertia: 0.103523, ewa inertia: 0.096470 \n",
      "Minibatch iteration 7/83200: mean batch inertia: 0.120630, ewa inertia: 0.096528 \n",
      "Minibatch iteration 8/83200: mean batch inertia: 0.102404, ewa inertia: 0.096542 \n",
      "Minibatch iteration 9/83200: mean batch inertia: 0.105247, ewa inertia: 0.096563 \n",
      "[MiniBatchKMeans] Reassigning 50 cluster centers.\n",
      "Minibatch iteration 10/83200: mean batch inertia: 0.143412, ewa inertia: 0.096676 \n",
      "Minibatch iteration 11/83200: mean batch inertia: 0.126052, ewa inertia: 0.096746 \n",
      "Converged (lack of improvement in inertia) at iteration 11/83200\n",
      "Computing label assignment and total inertia\n"
     ]
    },
    {
     "data": {
      "text/plain": [
       "MiniBatchKMeans(batch_size=100, compute_labels=True, init='k-means++',\n",
       "        init_size=None, max_iter=100, max_no_improvement=10,\n",
       "        n_clusters=1000, n_init=3, random_state=None,\n",
       "        reassignment_ratio=0.01, tol=0.0, verbose=1)"
      ]
     },
     "execution_count": 26,
     "metadata": {},
     "output_type": "execute_result"
    }
   ],
   "source": [
    "km = MiniBatchKMeans(1000, verbose=1)\n",
    "km.fit(X)"
   ]
  },
  {
   "cell_type": "code",
   "execution_count": 27,
   "metadata": {},
   "outputs": [],
   "source": [
    "f = open('clusters_.txt', 'w')\n",
    "\n",
    "labels = km.labels_ # в km.labels_ тут хранятся кластеры для каждого примера\n",
    "\n",
    "clusters = defaultdict(list)\n",
    "for i in range(len(sents_)):\n",
    "    clusters[labels[i]].append(sents_[i])\n",
    "\n",
    "for cluster in clusters:\n",
    "    f.write('\\n\\n\\nCLUSTER - {}\\n'.format(cluster))\n",
    "    for sent in clusters[cluster]:\n",
    "        f.write(' '.join(sent) + '\\n')\n",
    "f.close()\n",
    "    "
   ]
  },
  {
   "cell_type": "markdown",
   "metadata": {},
   "source": [
    "Простое усреднение работает очень хорошо. Если найти корпус побольше и подобрать параметры, векторы предложения будут очень хорошие и подойдут для классификации.\n",
    "\n",
    "Есть несколько способоб сделать векторы ещё лучше.\n",
    "\n",
    "\n",
    "Про них можно почитать вот тут:\n",
    "\n",
    "https://github.com/nlptown/sentence-similarity/blob/master/Simple%20Sentence%20Similarity.ipynb"
   ]
  },
  {
   "cell_type": "code",
   "execution_count": null,
   "metadata": {},
   "outputs": [],
   "source": []
  }
 ],
 "metadata": {
  "kernelspec": {
   "display_name": "Python 3",
   "language": "python",
   "name": "python3"
  },
  "language_info": {
   "codemirror_mode": {
    "name": "ipython",
    "version": 3
   },
   "file_extension": ".py",
   "mimetype": "text/x-python",
   "name": "python",
   "nbconvert_exporter": "python",
   "pygments_lexer": "ipython3",
   "version": "3.6.4"
  }
 },
 "nbformat": 4,
 "nbformat_minor": 2
}
